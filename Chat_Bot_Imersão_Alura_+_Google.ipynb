{
  "cells": [
    {
      "cell_type": "markdown",
      "metadata": {
        "id": "view-in-github",
        "colab_type": "text"
      },
      "source": [
        "<a href=\"https://colab.research.google.com/github/Daniel20912/Daniel20912/blob/main/Chat_Bot_Imers%C3%A3o_Alura_%2B_Google.ipynb\" target=\"_parent\"><img src=\"https://colab.research.google.com/assets/colab-badge.svg\" alt=\"Open In Colab\"/></a>"
      ]
    },
    {
      "cell_type": "code",
      "source": [
        "!pip install -q -U google-generativeai"
      ],
      "metadata": {
        "id": "MmTzR8jGq94-"
      },
      "execution_count": null,
      "outputs": []
    },
    {
      "cell_type": "code",
      "source": [
        "# Import the Python SDK\n",
        "import google.generativeai as genai\n",
        "from google.colab import userdata\n",
        "api_key = userdata.get(\"SECRET_KEY\")\n",
        "\n",
        "genai.configure(api_key = api_key)"
      ],
      "metadata": {
        "id": "WKTng1YHrGgP"
      },
      "execution_count": 15,
      "outputs": []
    },
    {
      "cell_type": "markdown",
      "source": [
        "Lista dos módelos disponiveis"
      ],
      "metadata": {
        "id": "pPzyNk2bsDXG"
      }
    },
    {
      "cell_type": "code",
      "source": [
        "for i in genai.list_models():\n",
        "  if \"generateContent\" in i.supported_generation_methods:\n",
        "    print(i.name)"
      ],
      "metadata": {
        "id": "kbnyuiO8rS1f",
        "outputId": "cba1b276-862c-45f5-e30c-5b856f8df0f6",
        "colab": {
          "base_uri": "https://localhost:8080/",
          "height": 138
        }
      },
      "execution_count": 16,
      "outputs": [
        {
          "output_type": "stream",
          "name": "stdout",
          "text": [
            "models/gemini-1.0-pro\n",
            "models/gemini-1.0-pro-001\n",
            "models/gemini-1.0-pro-latest\n",
            "models/gemini-1.0-pro-vision-latest\n",
            "models/gemini-1.5-pro-latest\n",
            "models/gemini-pro\n",
            "models/gemini-pro-vision\n"
          ]
        }
      ]
    },
    {
      "cell_type": "code",
      "source": [
        "generation_config = {\n",
        "    \"candidate_count\": 1,\n",
        "    \"temperature\": 1\n",
        "}"
      ],
      "metadata": {
        "id": "nk6U3yzzvVvm"
      },
      "execution_count": 17,
      "outputs": []
    },
    {
      "cell_type": "code",
      "source": [
        "safety_settings = {\n",
        "    \"Harassment\": \"BLOCK_NONE\",\n",
        "    \"Hate\": \"BLOCK_NONE\",\n",
        "    \"Sexual\": \"BLOCK_NONE\",\n",
        "    \"Dangerous\": \"BLOCK_NONE\"\n",
        "}"
      ],
      "metadata": {
        "id": "iYFH3aAxxEkW"
      },
      "execution_count": 19,
      "outputs": []
    },
    {
      "cell_type": "markdown",
      "source": [
        "Inicializando modelo"
      ],
      "metadata": {
        "id": "nQ-3VD9MyGZC"
      }
    },
    {
      "cell_type": "code",
      "source": [
        "model = genai.GenerativeModel(model_name=\"gemini-1.0-pro\", generation_config=generation_config, safety_settings=safety_settings)"
      ],
      "metadata": {
        "id": "VoJhxbwsyyM6"
      },
      "execution_count": 20,
      "outputs": []
    },
    {
      "cell_type": "code",
      "source": [
        "response = model.generate_content(\"Me indique um filme.\")\n",
        "print(response.text)"
      ],
      "metadata": {
        "id": "rCP8ao5U05H5",
        "outputId": "626a1193-c176-4a08-f020-b954d00ab599",
        "colab": {
          "base_uri": "https://localhost:8080/",
          "height": 624
        }
      },
      "execution_count": 21,
      "outputs": [
        {
          "output_type": "stream",
          "name": "stdout",
          "text": [
            "**Drama:**\n",
            "* Moonlight: Sob a Luz do Luar\n",
            "* Manchester à Beira-mar\n",
            "* Green Book: O Guia\n",
            "* Parasita\n",
            "\n",
            "**Comédia:**\n",
            "* O Lobo de Wall Street\n",
            "* Tiradentes do Tempo\n",
            "* Dona Ivone Lara - Um Samba no Tempo\n",
            "* Os Delírios de Consumo de Imelda Marcos\n",
            "\n",
            "**Ação/Aventura:**\n",
            "* Missão: Impossível - Efeito Fallout\n",
            "* Creed II\n",
            "* Capitão América: Guerra Civil\n",
            "* Velozes e Furiosos 9\n",
            "\n",
            "**Fantasia/Ficção Científica:**\n",
            "* Blade Runner 2049\n",
            "* O Cavaleiro das Trevas\n",
            "* Interestelar\n",
            "* Ad Astra: Rumo às Estrelas\n",
            "\n",
            "**Terror:**\n",
            "* Invocação do Mal 2\n",
            "* Um Lugar Silencioso\n",
            "* Hereditário\n",
            "* Corra!\n",
            "\n",
            "**Musical:**\n",
            "* La La Land: Cantando Estações\n",
            "* Os Miseráveis\n",
            "* Mamma Mia! Lá Vamos Nós de Novo\n",
            "* Bohemian Rhapsody\n"
          ]
        }
      ]
    },
    {
      "cell_type": "code",
      "source": [
        "chat = model.start_chat(history = [])"
      ],
      "metadata": {
        "id": "VTee27Pp2Y-u"
      },
      "execution_count": 22,
      "outputs": []
    },
    {
      "cell_type": "code",
      "source": [
        "prompt = input(\"Esperando prompt: \")\n",
        "\n",
        "while prompt != \"fim\":\n",
        "  response = chat.send_message(prompt)\n",
        "  print(\"Resposta: \", response.text, \"\\n\")\n",
        "  prompt = input(\"Esperando prompt: \")\n"
      ],
      "metadata": {
        "id": "IcqSxHWo2xls",
        "outputId": "1d68c4d4-7349-4bb8-f371-c32a10d6c4ad",
        "colab": {
          "base_uri": "https://localhost:8080/",
          "height": 156
        }
      },
      "execution_count": 23,
      "outputs": [
        {
          "name": "stdout",
          "output_type": "stream",
          "text": [
            "Esperando prompt: Me recomende 5 livros\n",
            "Resposta:  1. **1984** por George Orwell: Uma história distópica clássica que explora os perigos do totalitarismo e da vigilância em massa.\n",
            "2. **Matar a Sabiá** por Harper Lee: Um romance comovente e atemporal que retrata as injustiças raciais e sociais no sul dos EUA durante a década de 1930.\n",
            "3. **Cem Anos de Solidão** por Gabriel García Márquez: Um épico de realismo mágico que conta a história multigeracional da família Buendía na cidade fictícia de Macondo.\n",
            "4. **Grande Sertão: Veredas** por Guimarães Rosa: Uma obra-prima moderna do modernismo brasileiro, este romance experimental narra a jornada de Riobaldo no sertão.\n",
            "5. **O Alquimista** por Paulo Coelho: Uma fábula inspiradora que segue a jornada de um pastor andaluz em busca do seu tesouro pessoal. \n",
            "\n",
            "Esperando prompt: fim\n"
          ]
        }
      ]
    }
  ],
  "metadata": {
    "colab": {
      "provenance": [],
      "include_colab_link": true
    },
    "kernelspec": {
      "display_name": "Python 3",
      "name": "python3"
    }
  },
  "nbformat": 4,
  "nbformat_minor": 0
}